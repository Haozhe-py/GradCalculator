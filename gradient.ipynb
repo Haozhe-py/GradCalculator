{
 "cells": [
  {
   "cell_type": "markdown",
   "id": "61f3eaaf-6d32-4070-bc5a-7ffecfe0412c",
   "metadata": {},
   "source": [
    "# （自动）计算梯度\n",
    "\n",
    "**作者：** [Haozhe-py](https://github.com/haozhe-py/)\n",
    "\n",
    "> 此程序基于`PyTorch`和`numpy`，\n",
    "> 使用前请安装：`pip install torch`"
   ]
  },
  {
   "cell_type": "markdown",
   "id": "cc50f611-0e96-4948-acc4-5c87c98e5ee0",
   "metadata": {},
   "source": [
    "---\n",
    "## 1. 安装`PyTorch`"
   ]
  },
  {
   "cell_type": "code",
   "execution_count": 1,
   "id": "01947734-16fb-4247-86ea-0873fc16f1e5",
   "metadata": {},
   "outputs": [
    {
     "name": "stdout",
     "output_type": "stream",
     "text": [
      "Requirement already satisfied: torch==2.6.0 in c:\\users\\administrator\\appdata\\roaming\\python\\python311\\site-packages (2.6.0)\n",
      "Requirement already satisfied: filelock in c:\\users\\administrator\\appdata\\roaming\\python\\python311\\site-packages (from torch==2.6.0) (3.18.0)\n",
      "Requirement already satisfied: typing-extensions>=4.10.0 in c:\\users\\administrator\\appdata\\roaming\\python\\python311\\site-packages (from torch==2.6.0) (4.13.0)\n",
      "Requirement already satisfied: networkx in c:\\users\\administrator\\appdata\\roaming\\python\\python311\\site-packages (from torch==2.6.0) (3.4.2)\n",
      "Requirement already satisfied: jinja2 in c:\\users\\administrator\\appdata\\roaming\\python\\python311\\site-packages (from torch==2.6.0) (3.1.6)\n",
      "Requirement already satisfied: fsspec in c:\\users\\administrator\\appdata\\roaming\\python\\python311\\site-packages (from torch==2.6.0) (2025.3.0)\n",
      "Requirement already satisfied: sympy==1.13.1 in c:\\users\\administrator\\appdata\\roaming\\python\\python311\\site-packages (from torch==2.6.0) (1.13.1)\n",
      "Requirement already satisfied: mpmath<1.4,>=1.1.0 in c:\\users\\administrator\\appdata\\roaming\\python\\python311\\site-packages (from sympy==1.13.1->torch==2.6.0) (1.3.0)\n",
      "Requirement already satisfied: MarkupSafe>=2.0 in c:\\users\\administrator\\appdata\\roaming\\python\\python311\\site-packages (from jinja2->torch==2.6.0) (3.0.2)\n"
     ]
    }
   ],
   "source": [
    "!pip install torch==2.6.0"
   ]
  },
  {
   "cell_type": "markdown",
   "id": "a16d1aef-3585-4af4-bf82-db8a2eb370b1",
   "metadata": {},
   "source": [
    "---\n",
    "## 2. 导入`PyTorch`库："
   ]
  },
  {
   "cell_type": "code",
   "execution_count": 2,
   "id": "68225e05-518d-49d2-a441-468058d4ddde",
   "metadata": {},
   "outputs": [],
   "source": [
    "import torch"
   ]
  },
  {
   "cell_type": "markdown",
   "id": "b538ecc5-7944-456e-9d3b-87b4c9b51041",
   "metadata": {},
   "source": [
    "---\n",
    "## 3. 定义函数："
   ]
  },
  {
   "cell_type": "code",
   "execution_count": 11,
   "id": "54d0b91e-7290-4929-9857-f2035ad9fb0f",
   "metadata": {},
   "outputs": [],
   "source": [
    "def f(X:torch.Tensor, analytic_expression=None):\n",
    "    # 以二次函数为例：\n",
    "    if not X.requires_grad:\n",
    "        X.requires_grad = True\n",
    "    Y = 16*X**2 + 8*X + 4\n",
    "    return Y"
   ]
  },
  {
   "cell_type": "markdown",
   "id": "16b47286-1ced-42d8-b97b-7470acbcce2c",
   "metadata": {},
   "source": [
    "---\n",
    "## 4. 定义主函数："
   ]
  },
  {
   "cell_type": "code",
   "execution_count": 17,
   "id": "d1194a50-1db3-4c8a-9a77-1212387b60ed",
   "metadata": {},
   "outputs": [],
   "source": [
    "import sys\n",
    "import numpy as np\n",
    "\n",
    "def main(analytic_expression=None):\n",
    "    print('输入一个X，计算y=f(x)，求出梯度dy/dx。\\n输入quit退出。')\n",
    "    while True:\n",
    "        try:\n",
    "            x = input('\\n\\n请输入x：\\n')\n",
    "            if x == 'quit':\n",
    "                print('已退出')\n",
    "                break\n",
    "            x = float(x)\n",
    "            X = torch.tensor([x], requires_grad = True)\n",
    "            if analytic_expression==None:\n",
    "                Y = f(X)\n",
    "            else:\n",
    "                Y = f(X, analytic_expression = analytic_expression)\n",
    "            try:\n",
    "                Y.backward()\n",
    "                print('\\n\\n梯度：dy/dx=', X.grad.numpy().tolist()[0])\n",
    "            except:\n",
    "                print('\\n\\n梯度：dy/dx=0.0')\n",
    "        except Exception as e:\n",
    "            print('ERROR: ', str(e), file = sys.stderr)"
   ]
  },
  {
   "cell_type": "markdown",
   "id": "b36aad79-47e5-44ac-83cc-36aca3308491",
   "metadata": {},
   "source": [
    "---\n",
    "## 5. 测试："
   ]
  },
  {
   "cell_type": "code",
   "execution_count": 5,
   "id": "c3b23303-a159-4f07-b193-b5ca5353ef62",
   "metadata": {},
   "outputs": [
    {
     "name": "stdout",
     "output_type": "stream",
     "text": [
      "输入一个X，计算y=f(x)，求出梯度dy/dx。\n",
      "输入quit退出。\n"
     ]
    },
    {
     "name": "stdin",
     "output_type": "stream",
     "text": [
      "\n",
      "\n",
      "请输入x：\n",
      " 2\n"
     ]
    },
    {
     "name": "stdout",
     "output_type": "stream",
     "text": [
      "\n",
      "\n",
      "梯度：dy/dx= 72.0\n"
     ]
    },
    {
     "name": "stdin",
     "output_type": "stream",
     "text": [
      "\n",
      "\n",
      "请输入x：\n",
      " 0\n"
     ]
    },
    {
     "name": "stdout",
     "output_type": "stream",
     "text": [
      "\n",
      "\n",
      "梯度：dy/dx= 8.0\n"
     ]
    },
    {
     "name": "stdin",
     "output_type": "stream",
     "text": [
      "\n",
      "\n",
      "请输入x：\n",
      " 1\n"
     ]
    },
    {
     "name": "stdout",
     "output_type": "stream",
     "text": [
      "\n",
      "\n",
      "梯度：dy/dx= 40.0\n"
     ]
    },
    {
     "name": "stdin",
     "output_type": "stream",
     "text": [
      "\n",
      "\n",
      "请输入x：\n",
      " quit\n"
     ]
    },
    {
     "name": "stdout",
     "output_type": "stream",
     "text": [
      "已退出\n"
     ]
    }
   ],
   "source": [
    "main()"
   ]
  },
  {
   "cell_type": "markdown",
   "id": "38b71b0f-ad6c-41aa-a648-cb26e2682852",
   "metadata": {},
   "source": [
    "---\n",
    "## 6. 自定义函数："
   ]
  },
  {
   "cell_type": "code",
   "execution_count": 14,
   "id": "3cf5cda5-e4ec-4745-8e68-7f3f6f7f34fe",
   "metadata": {},
   "outputs": [],
   "source": [
    "def f(X:torch.Tensor, analytic_expression='16*x**2 + 8*x + 4'):\n",
    "    # 以二次函数为例：\n",
    "    if not X.requires_grad:\n",
    "        X.requires_grad = True\n",
    "    args = {'x':X}\n",
    "    exec(f'Y = {analytic_expression}', args)\n",
    "    Y = args['Y']\n",
    "    if not isinstance(Y, torch.Tensor):\n",
    "        Y = torch.tensor(Y)\n",
    "    return Y"
   ]
  },
  {
   "cell_type": "markdown",
   "id": "dea29f96-41f8-43a7-ac10-dd5e5df692ac",
   "metadata": {},
   "source": [
    "---\n",
    "## 7. 运行："
   ]
  },
  {
   "cell_type": "code",
   "execution_count": 19,
   "id": "7c2e9cbe-0fd5-4db7-a301-b9f75d65ad4e",
   "metadata": {},
   "outputs": [
    {
     "name": "stdin",
     "output_type": "stream",
     "text": [
      "请输入函数解析式：y= x**3\n"
     ]
    },
    {
     "name": "stdout",
     "output_type": "stream",
     "text": [
      "输入一个X，计算y=f(x)，求出梯度dy/dx。\n",
      "输入quit退出。\n"
     ]
    },
    {
     "name": "stdin",
     "output_type": "stream",
     "text": [
      "\n",
      "\n",
      "请输入x：\n",
      " 1\n"
     ]
    },
    {
     "name": "stdout",
     "output_type": "stream",
     "text": [
      "\n",
      "\n",
      "梯度：dy/dx= 3.0\n"
     ]
    },
    {
     "name": "stdin",
     "output_type": "stream",
     "text": [
      "\n",
      "\n",
      "请输入x：\n",
      " 2\n"
     ]
    },
    {
     "name": "stdout",
     "output_type": "stream",
     "text": [
      "\n",
      "\n",
      "梯度：dy/dx= 12.0\n"
     ]
    },
    {
     "name": "stdin",
     "output_type": "stream",
     "text": [
      "\n",
      "\n",
      "请输入x：\n",
      " quit\n"
     ]
    },
    {
     "name": "stdout",
     "output_type": "stream",
     "text": [
      "已退出\n"
     ]
    }
   ],
   "source": [
    "analytic_expression = input('请输入函数解析式：y=')\n",
    "main(analytic_expression=analytic_expression)"
   ]
  },
  {
   "cell_type": "markdown",
   "id": "f3985888-3279-43d5-8a0f-cd9bcdefb9c4",
   "metadata": {},
   "source": [
    "---\n",
    "## 8. 完整代码："
   ]
  },
  {
   "cell_type": "code",
   "execution_count": 20,
   "id": "9839bbac-54d3-46ed-8ded-6b78ce41f187",
   "metadata": {},
   "outputs": [
    {
     "name": "stdout",
     "output_type": "stream",
     "text": [
      "Requirement already satisfied: torch==2.6.0 in c:\\users\\administrator\\appdata\\roaming\\python\\python311\\site-packages (2.6.0)\n",
      "Requirement already satisfied: filelock in c:\\users\\administrator\\appdata\\roaming\\python\\python311\\site-packages (from torch==2.6.0) (3.18.0)\n",
      "Requirement already satisfied: typing-extensions>=4.10.0 in c:\\users\\administrator\\appdata\\roaming\\python\\python311\\site-packages (from torch==2.6.0) (4.13.0)\n",
      "Requirement already satisfied: networkx in c:\\users\\administrator\\appdata\\roaming\\python\\python311\\site-packages (from torch==2.6.0) (3.4.2)\n",
      "Requirement already satisfied: jinja2 in c:\\users\\administrator\\appdata\\roaming\\python\\python311\\site-packages (from torch==2.6.0) (3.1.6)\n",
      "Requirement already satisfied: fsspec in c:\\users\\administrator\\appdata\\roaming\\python\\python311\\site-packages (from torch==2.6.0) (2025.3.0)\n",
      "Requirement already satisfied: sympy==1.13.1 in c:\\users\\administrator\\appdata\\roaming\\python\\python311\\site-packages (from torch==2.6.0) (1.13.1)\n",
      "Requirement already satisfied: mpmath<1.4,>=1.1.0 in c:\\users\\administrator\\appdata\\roaming\\python\\python311\\site-packages (from sympy==1.13.1->torch==2.6.0) (1.3.0)\n",
      "Requirement already satisfied: MarkupSafe>=2.0 in c:\\users\\administrator\\appdata\\roaming\\python\\python311\\site-packages (from jinja2->torch==2.6.0) (3.0.2)\n"
     ]
    },
    {
     "name": "stdin",
     "output_type": "stream",
     "text": [
      "请输入函数解析式：y= 0\n"
     ]
    },
    {
     "name": "stdout",
     "output_type": "stream",
     "text": [
      "输入一个X，计算y=f(x)，求出梯度dy/dx。\n",
      "输入quit退出。\n"
     ]
    },
    {
     "name": "stdin",
     "output_type": "stream",
     "text": [
      "\n",
      "\n",
      "请输入x：\n",
      " 1234\n"
     ]
    },
    {
     "name": "stdout",
     "output_type": "stream",
     "text": [
      "\n",
      "\n",
      "梯度：dy/dx=0.0\n"
     ]
    },
    {
     "name": "stdin",
     "output_type": "stream",
     "text": [
      "\n",
      "\n",
      "请输入x：\n",
      " quit\n"
     ]
    },
    {
     "name": "stdout",
     "output_type": "stream",
     "text": [
      "已退出\n"
     ]
    }
   ],
   "source": [
    "!pip install torch==2.6.0\n",
    "\n",
    "import torch\n",
    "import sys\n",
    "import numpy as np\n",
    "\n",
    "def f(X:torch.Tensor, analytic_expression='16*x**2 + 8*x + 4'):\n",
    "    # 以二次函数为例：\n",
    "    if not X.requires_grad:\n",
    "        X.requires_grad = True\n",
    "    args = {'x':X}\n",
    "    exec(f'Y = {analytic_expression}', args)\n",
    "    Y = args['Y']\n",
    "    if not isinstance(Y, torch.Tensor):\n",
    "        Y = torch.tensor(Y)\n",
    "    return Y\n",
    "\n",
    "def main(analytic_expression=None):\n",
    "    print('输入一个X，计算y=f(x)，求出梯度dy/dx。\\n输入quit退出。')\n",
    "    while True:\n",
    "        try:\n",
    "            x = input('\\n\\n请输入x：\\n')\n",
    "            if x == 'quit':\n",
    "                print('已退出')\n",
    "                break\n",
    "            x = float(x)\n",
    "            X = torch.tensor([x], requires_grad = True)\n",
    "            if analytic_expression==None:\n",
    "                Y = f(X)\n",
    "            else:\n",
    "                Y = f(X, analytic_expression = analytic_expression)\n",
    "            try:\n",
    "                Y.backward()\n",
    "                print('\\n\\n梯度：dy/dx=', X.grad.numpy().tolist()[0])\n",
    "            except:\n",
    "                print('\\n\\n梯度：dy/dx=0.0')\n",
    "        except Exception as e:\n",
    "            print('ERROR: ', str(e), file = sys.stderr)\n",
    "\n",
    "\n",
    "analytic_expression = input('请输入函数解析式：y=')\n",
    "main(analytic_expression=analytic_expression)"
   ]
  },
  {
   "cell_type": "code",
   "execution_count": null,
   "id": "12c47938-495e-48ae-a8d6-90291c2c18de",
   "metadata": {},
   "outputs": [],
   "source": []
  }
 ],
 "metadata": {
  "kernelspec": {
   "display_name": "Python 3 (ipykernel)",
   "language": "python",
   "name": "python3"
  },
  "language_info": {
   "codemirror_mode": {
    "name": "ipython",
    "version": 3
   },
   "file_extension": ".py",
   "mimetype": "text/x-python",
   "name": "python",
   "nbconvert_exporter": "python",
   "pygments_lexer": "ipython3",
   "version": "3.11.0"
  }
 },
 "nbformat": 4,
 "nbformat_minor": 5
}
